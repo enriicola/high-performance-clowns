{
 "cells": [
  {
   "cell_type": "code",
   "execution_count": null,
   "metadata": {},
   "outputs": [],
   "source": [
    "import matplotlib.pyplot as plt\n",
    "import seaborn as sns\n",
    "import re\n",
    "import subprocess\n",
    "import numpy as np"
   ]
  },
  {
   "cell_type": "code",
   "execution_count": null,
   "metadata": {},
   "outputs": [],
   "source": [
    "re_pattern = r\"Time elapsed: (\\d+) milliseconds\"\n",
    "RESOLUTIONS = [1000, 2000, 4000, 8000, 16000]\n",
    "RUNS = 1"
   ]
  },
  {
   "cell_type": "markdown",
   "metadata": {},
   "source": [
    "# Best params CUDA"
   ]
  },
  {
   "cell_type": "code",
   "execution_count": 58,
   "metadata": {},
   "outputs": [],
   "source": [
    "BLOCKDIM_Y = BLOCKDIM_X = [1, 2, 4, 8, 16, 32]"
   ]
  },
  {
   "cell_type": "code",
   "execution_count": null,
   "metadata": {},
   "outputs": [
    {
     "name": "stdout",
     "output_type": "stream",
     "text": [
      "block_x=1, block_y=1\n",
      "block_x=1, block_y=2\n",
      "block_x=1, block_y=4\n",
      "block_x=1, block_y=8\n",
      "block_x=1, block_y=16\n",
      "block_x=1, block_y=32\n",
      "block_x=2, block_y=1\n",
      "block_x=2, block_y=2\n",
      "block_x=2, block_y=4\n",
      "block_x=2, block_y=8\n",
      "block_x=2, block_y=16\n",
      "block_x=2, block_y=32\n",
      "block_x=4, block_y=1\n",
      "block_x=4, block_y=2\n",
      "block_x=4, block_y=4\n",
      "block_x=4, block_y=8\n",
      "block_x=4, block_y=16\n",
      "block_x=4, block_y=32\n",
      "block_x=8, block_y=1\n",
      "block_x=8, block_y=2\n",
      "block_x=8, block_y=4\n",
      "block_x=8, block_y=8\n",
      "block_x=8, block_y=16\n",
      "block_x=8, block_y=32\n",
      "block_x=16, block_y=1\n",
      "block_x=16, block_y=2\n",
      "block_x=16, block_y=4\n",
      "block_x=16, block_y=8\n",
      "block_x=16, block_y=16\n",
      "block_x=16, block_y=32\n",
      "block_x=32, block_y=1\n",
      "block_x=32, block_y=2\n",
      "block_x=32, block_y=4\n",
      "block_x=32, block_y=8\n",
      "block_x=32, block_y=16\n",
      "block_x=32, block_y=32\n"
     ]
    }
   ],
   "source": [
    "time_matrix_blockdim_by_resolution = {}\n",
    "\n",
    "for r, resolution in enumerate(RESOLUTIONS[:4]):\n",
    "    time_matrix = np.zeros((len(BLOCKDIM_X), len(BLOCKDIM_Y)))\n",
    "\n",
    "    for run in range(RUNS):\n",
    "        for i, block_x in enumerate(BLOCKDIM_X):\n",
    "            for j, block_y in enumerate(BLOCKDIM_Y):\n",
    "                print(f\"{block_x=}, {block_y=}, {resolution=}\")\n",
    "                command = f\"make cuda BLOCKDIM_X={block_x} BLOCKDIM_Y={block_y} RESOLUTION={resolution} && ./release/mandelbrot_cuda\"\n",
    "                result = subprocess.run(command, shell=True, capture_output=True, text=True)\n",
    "                match = re.search(re_pattern, result.stdout)\n",
    "                if match:\n",
    "                    time_elapsed = int(match.group(1))\n",
    "                    time_matrix[i, j] += time_elapsed\n",
    "                else:\n",
    "                    print(f\"[DEBUG] No match found in stdout for elapsed time.\")\n",
    "    time_matrix /= RUNS # average\n",
    "\n",
    "    time_matrix_blockdim_by_resolution[r] = time_matrix"
   ]
  },
  {
   "cell_type": "code",
   "execution_count": null,
   "metadata": {},
   "outputs": [
    {
     "name": "stdout",
     "output_type": "stream",
     "text": [
      "Best blockdim_x: 4, Best blockdim_y: 8\n"
     ]
    }
   ],
   "source": [
    "best_time = np.inf\n",
    "best_config = None\n",
    "\n",
    "# iterate over each resolution's time matrix\n",
    "for r, matrix in time_matrix_blockdim_by_resolution.items():\n",
    "  # Find the indices of the minimum time in the current matrix\n",
    "  i_min, j_min = np.unravel_index(np.argmin(matrix), matrix.shape)\n",
    "  # Update the best time and configuration if the current minimum time is better\n",
    "  if matrix[i_min, j_min] < best_time:\n",
    "    best_time = matrix[i_min, j_min]\n",
    "    best_config = (BLOCKDIM_X[i_min], BLOCKDIM_Y[j_min])\n",
    "\n",
    "print(f\"Best overall CUDA BLOCKDIM: block_x = {best_config} with time {best_time}\")"
   ]
  },
  {
   "cell_type": "markdown",
   "metadata": {},
   "source": [
    "# CPU best params"
   ]
  },
  {
   "cell_type": "code",
   "execution_count": null,
   "metadata": {},
   "outputs": [],
   "source": [
    "!source /opt/intel/oneapi/setvars.sh"
   ]
  },
  {
   "cell_type": "code",
   "execution_count": 77,
   "metadata": {},
   "outputs": [],
   "source": [
    "# NUM_THREADS_LIST = [1, 2, 4, 6, 8, 10, 12, 14, 16, 18, 20]\n",
    "NUM_THREADS_LIST = [1, 2, 4, 6]\n",
    "SCHEDULE_LIST = [\"static\", \"dynamic\", \"guided\"]"
   ]
  },
  {
   "cell_type": "code",
   "execution_count": 78,
   "metadata": {},
   "outputs": [
    {
     "name": "stdout",
     "output_type": "stream",
     "text": [
      "Run 1\n",
      "nthreads=1, schedule=static\n",
      "nthreads=1, schedule=dynamic\n",
      "nthreads=1, schedule=guided\n",
      "nthreads=2, schedule=static\n",
      "nthreads=2, schedule=dynamic\n",
      "nthreads=2, schedule=guided\n",
      "nthreads=4, schedule=static\n",
      "nthreads=4, schedule=dynamic\n",
      "nthreads=4, schedule=guided\n",
      "nthreads=6, schedule=static\n",
      "nthreads=6, schedule=dynamic\n",
      "nthreads=6, schedule=guided\n",
      "Run 2\n",
      "nthreads=1, schedule=static\n",
      "nthreads=1, schedule=dynamic\n",
      "nthreads=1, schedule=guided\n",
      "nthreads=2, schedule=static\n",
      "nthreads=2, schedule=dynamic\n",
      "nthreads=2, schedule=guided\n",
      "nthreads=4, schedule=static\n",
      "nthreads=4, schedule=dynamic\n",
      "nthreads=4, schedule=guided\n",
      "nthreads=6, schedule=static\n",
      "nthreads=6, schedule=dynamic\n",
      "nthreads=6, schedule=guided\n",
      "Run 3\n",
      "nthreads=1, schedule=static\n",
      "nthreads=1, schedule=dynamic\n",
      "nthreads=1, schedule=guided\n",
      "nthreads=2, schedule=static\n",
      "nthreads=2, schedule=dynamic\n",
      "nthreads=2, schedule=guided\n",
      "nthreads=4, schedule=static\n",
      "nthreads=4, schedule=dynamic\n",
      "nthreads=4, schedule=guided\n",
      "nthreads=6, schedule=static\n",
      "nthreads=6, schedule=dynamic\n",
      "nthreads=6, schedule=guided\n",
      "Run 4\n",
      "nthreads=1, schedule=static\n",
      "nthreads=1, schedule=dynamic\n",
      "nthreads=1, schedule=guided\n",
      "nthreads=2, schedule=static\n",
      "nthreads=2, schedule=dynamic\n",
      "nthreads=2, schedule=guided\n",
      "nthreads=4, schedule=static\n",
      "nthreads=4, schedule=dynamic\n",
      "nthreads=4, schedule=guided\n",
      "nthreads=6, schedule=static\n",
      "nthreads=6, schedule=dynamic\n",
      "nthreads=6, schedule=guided\n",
      "Run 5\n",
      "nthreads=1, schedule=static\n",
      "nthreads=1, schedule=dynamic\n",
      "nthreads=1, schedule=guided\n",
      "nthreads=2, schedule=static\n",
      "nthreads=2, schedule=dynamic\n",
      "nthreads=2, schedule=guided\n",
      "nthreads=4, schedule=static\n",
      "nthreads=4, schedule=dynamic\n",
      "nthreads=4, schedule=guided\n",
      "nthreads=6, schedule=static\n",
      "nthreads=6, schedule=dynamic\n",
      "nthreads=6, schedule=guided\n"
     ]
    }
   ],
   "source": [
    "best_cpu_param_times = np.zeros((len(NUM_THREADS_LIST), len(SCHEDULE_LIST)))\n",
    "\n",
    "for run in range(RUNS):\n",
    "  print(f\"Run {run+1}\")\n",
    "  for i, nthreads in enumerate(NUM_THREADS_LIST):\n",
    "    for j, schedule in enumerate(SCHEDULE_LIST):\n",
    "      print(f\"\"\"nthreads={nthreads}, schedule={schedule}\"\"\")\n",
    "      command = f\"make NUM_THREADS={nthreads} OMP_SCHEDULE={schedule} && ./release/mandelbrot\"\n",
    "      result = subprocess.run(command, shell=True, capture_output=True, text=True)\n",
    "      \n",
    "      match = re.search(re_pattern, result.stdout)\n",
    "      if match:\n",
    "        time_elapsed = int(match.group(1))\n",
    "        best_cpu_param_times[i, j] = time_elapsed\n",
    "      else:\n",
    "        print(f\"[DEBUG] No match found in stdout for elapsed time.\")\n",
    "\n",
    "best_cpu_param_times /= RUNS"
   ]
  },
  {
   "cell_type": "code",
   "execution_count": 79,
   "metadata": {},
   "outputs": [
    {
     "name": "stdout",
     "output_type": "stream",
     "text": [
      "Best parameters: nthreads=6, schedule=guided\n"
     ]
    }
   ],
   "source": [
    "i_min, j_min = np.unravel_index(np.argmin(best_cpu_param_times), best_cpu_param_times.shape)\n",
    "print(f\"Best parameters: nthreads={NUM_THREADS_LIST[i_min]}, schedule={SCHEDULE_LIST[j_min]}\")"
   ]
  }
 ],
 "metadata": {
  "kernelspec": {
   "display_name": "general",
   "language": "python",
   "name": "python3"
  },
  "language_info": {
   "codemirror_mode": {
    "name": "ipython",
    "version": 3
   },
   "file_extension": ".py",
   "mimetype": "text/x-python",
   "name": "python",
   "nbconvert_exporter": "python",
   "pygments_lexer": "ipython3",
   "version": "3.12.9"
  }
 },
 "nbformat": 4,
 "nbformat_minor": 2
}
